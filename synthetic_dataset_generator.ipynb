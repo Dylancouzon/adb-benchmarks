{
 "cells": [
  {
   "cell_type": "code",
   "execution_count": null,
   "metadata": {},
   "outputs": [],
   "source": [
    "!uv pip install pandas numpy\n"
   ]
  },
  {
   "cell_type": "markdown",
   "metadata": {},
   "source": [
    "# Synthetic Dataset Generator for Arize AX\n",
    "\n",
    "This notebook creates a synthetic dataset with 1000 rows following Arize AX dataset conventions."
   ]
  },
  {
   "cell_type": "code",
   "execution_count": null,
   "metadata": {},
   "outputs": [],
   "source": [
    "import pandas as pd\n",
    "import json\n",
    "import uuid\n",
    "import random\n",
    "from datetime import datetime, timedelta\n",
    "import numpy as np\n",
    "import os\n"
   ]
  },
  {
   "cell_type": "code",
   "execution_count": null,
   "metadata": {},
   "outputs": [],
   "source": [
    "# Configuration\n",
    "NUM_ROWS = 2000000\n",
    "DATASET_NAME = \"Synthetic_Dataset\"\n",
    "\n",
    "# Prompt template for the synthetic data\n",
    "PROMPT_TEMPLATE = \"\"\"You are a {persona}. Help solve this problem: {problem}.\n",
    "Context: {context}\n",
    "Please provide a detailed response.\"\"\""
   ]
  },
  {
   "cell_type": "code",
   "execution_count": null,
   "metadata": {},
   "outputs": [],
   "source": [
    "# Sample data pools for generating synthetic content\n",
    "personas = [\n",
    "    \"software engineer\", \"data scientist\", \"product manager\", \"designer\", \n",
    "    \"marketing specialist\", \"financial analyst\", \"teacher\", \"consultant\",\n",
    "    \"researcher\", \"entrepreneur\", \"writer\", \"analyst\"\n",
    "]\n",
    "\n",
    "problems = [\n",
    "    \"optimizing system performance\", \"analyzing customer data\", \"improving user experience\",\n",
    "    \"reducing operational costs\", \"increasing team productivity\", \"developing new features\",\n",
    "    \"understanding market trends\", \"solving technical debt\", \"improving communication\",\n",
    "    \"scaling infrastructure\", \"enhancing security\", \"streamlining processes\"\n",
    "]\n",
    "\n",
    "contexts = [\n",
    "    \"startup environment with limited resources\", \"enterprise setting with compliance requirements\",\n",
    "    \"remote team collaboration\", \"fast-paced development cycle\", \"customer-facing application\",\n",
    "    \"data-driven decision making\", \"cross-functional project\", \"legacy system modernization\",\n",
    "    \"mobile-first approach\", \"cloud migration project\", \"AI/ML implementation\", \"security audit\"`\n",
    "]\n",
    "\n",
    "sample_outputs = [\n",
    "    \"Here's a comprehensive approach to address this challenge...\",\n",
    "    \"Based on the context provided, I recommend the following steps...\",\n",
    "    \"To solve this problem effectively, consider these key factors...\",\n",
    "    \"The best strategy would be to implement a phased approach...\",\n",
    "    \"After analyzing the situation, here are my recommendations...\"\n",
    "]"
   ]
  },
  {
   "cell_type": "code",
   "execution_count": null,
   "metadata": {},
   "outputs": [],
   "source": [
    "def generate_synthetic_row(index):\n",
    "    \"\"\"Generate a single synthetic row for the dataset.\"\"\"\n",
    "    \n",
    "    # Generate random combinations\n",
    "    persona = random.choice(personas)\n",
    "    problem = random.choice(problems)\n",
    "    context = random.choice(contexts)\n",
    "    \n",
    "    # Create prompt variables\n",
    "    prompt_variables = {\n",
    "        \"persona\": persona,\n",
    "        \"problem\": problem,\n",
    "        \"context\": context\n",
    "    }\n",
    "    \n",
    "    # Generate synthetic output\n",
    "    output_base = random.choice(sample_outputs)\n",
    "    output = f\"{output_base} For a {persona} dealing with {problem} in a {context}, the key considerations are performance, scalability, and user satisfaction.\"\n",
    "    \n",
    "    # Generate timestamp within last 30 days\n",
    "    timestamp = datetime.now() - timedelta(days=random.randint(0, 30))\n",
    "    \n",
    "    return {\n",
    "        \"id\": str(uuid.uuid4()),\n",
    "        \"attributes.llm.prompt_template.template\": PROMPT_TEMPLATE,\n",
    "        \"attributes.llm.prompt_template.variables\": json.dumps(prompt_variables),\n",
    "        \"input\": PROMPT_TEMPLATE.format(**prompt_variables),\n",
    "        \"output\": output,\n",
    "        \"timestamp\": timestamp.isoformat(),\n",
    "        \"model_name\": \"gpt-4\",\n",
    "        \"token_count_input\": random.randint(50, 200),\n",
    "        \"token_count_output\": random.randint(100, 300),\n",
    "        \"latency_ms\": random.randint(500, 3000),\n",
    "        \"cost_usd\": round(random.uniform(0.001, 0.05), 4)\n",
    "    }"
   ]
  },
  {
   "cell_type": "code",
   "execution_count": null,
   "metadata": {},
   "outputs": [],
   "source": [
    "# Generate the synthetic dataset\n",
    "print(f\"Generating {NUM_ROWS} synthetic rows...\")\n",
    "\n",
    "data = []\n",
    "for i in range(NUM_ROWS):\n",
    "    if i % 100 == 0:\n",
    "        print(f\"Generated {i} rows...\")\n",
    "    data.append(generate_synthetic_row(i))\n",
    "\n",
    "print(f\"Generated {len(data)} rows successfully!\")"
   ]
  },
  {
   "cell_type": "code",
   "execution_count": null,
   "metadata": {},
   "outputs": [],
   "source": [
    "df = pd.DataFrame(data)\n",
    "\n",
    "# Display sample rows\n",
    "print(\"Sample rows:\")\n",
    "df.head(3)"
   ]
  },
  {
   "cell_type": "code",
   "execution_count": null,
   "metadata": {},
   "outputs": [],
   "source": [
    "#Save the dataset to a csv file\n",
    "os.makedirs(\"datasets\", exist_ok=True)\n",
    "\n",
    "output_filename = os.path.join(\"datasets\", f\"{DATASET_NAME}_{NUM_ROWS}_rows.csv\")\n",
    "df.to_csv(output_filename, index=False)\n",
    "print(f\"Dataset saved to: {output_filename}\")"
   ]
  }
 ],
 "metadata": {
  "kernelspec": {
   "display_name": ".venv",
   "language": "python",
   "name": "python3"
  },
  "language_info": {
   "codemirror_mode": {
    "name": "ipython",
    "version": 3
   },
   "file_extension": ".py",
   "mimetype": "text/x-python",
   "name": "python",
   "nbconvert_exporter": "python",
   "pygments_lexer": "ipython3",
   "version": "3.13.3"
  }
 },
 "nbformat": 4,
 "nbformat_minor": 4
}
